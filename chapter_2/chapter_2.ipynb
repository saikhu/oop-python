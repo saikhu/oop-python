{
 "cells": [
  {
   "cell_type": "markdown",
   "metadata": {},
   "source": [
    "# Chapter 2\n",
    "## Objects in Python\n",
    "\n",
    "You will learing the followings in this chapter.\n",
    "\n",
    "- How to create classes and instantiate objects in Python\n",
    "- How to add attributes and behaviors to Python objects\n",
    "- How to organize classes into packages and modules\n",
    "- How to suggest people don't clobber our data "
   ]
  },
  {
   "cell_type": "code",
   "execution_count": 2,
   "metadata": {},
   "outputs": [
    {
     "name": "stdout",
     "output_type": "stream",
     "text": [
      "<__main__.myFirstClass object at 0x114027dc0> \n",
      " <__main__.myFirstClass object at 0x1140279a0>\n"
     ]
    }
   ],
   "source": [
    "class myFirstClass:\n",
    "    pass\n",
    "\n",
    "a = myFirstClass()\n",
    "b = myFirstClass()\n",
    "\n",
    "print(a,'\\n', b)"
   ]
  },
  {
   "cell_type": "code",
   "execution_count": 5,
   "metadata": {},
   "outputs": [
    {
     "name": "stdout",
     "output_type": "stream",
     "text": [
      "5 3\n",
      "10 20\n"
     ]
    }
   ],
   "source": [
    "class point:\n",
    "    pass\n",
    "\n",
    "p1 = point()\n",
    "p2 = point()\n",
    "\n",
    "p1.x = 5 ; p1.y = 3\n",
    "p2.x = 10 ; p2.y = 20\n",
    "\n",
    "print(p1.x, p1.y)\n",
    "print(p2.x, p2.y)\n"
   ]
  },
  {
   "cell_type": "code",
   "execution_count": 11,
   "metadata": {},
   "outputs": [
    {
     "name": "stdout",
     "output_type": "stream",
     "text": [
      "0 0\n"
     ]
    }
   ],
   "source": [
    "# class definition\n",
    "class Point:\n",
    "    def reset(self): # you can change the name of Self@Point\n",
    "        self.x = 0\n",
    "        self.y = 0\n",
    "\n",
    "p = Point()\n",
    "p.reset() # try to comment this line and then run the cell \n",
    "\n",
    "\n",
    "print(p.x, p.y) # print the class varibles"
   ]
  },
  {
   "cell_type": "code",
   "execution_count": 16,
   "metadata": {},
   "outputs": [
    {
     "name": "stdout",
     "output_type": "stream",
     "text": [
      "5.0\n"
     ]
    }
   ],
   "source": [
    "import math \n",
    "# class with methods intialization\n",
    "class Point: \n",
    "    def move(self, x, y):\n",
    "        self.x = x\n",
    "        self.y = y\n",
    "\n",
    "    def reset(self):\n",
    "        self.move(0,0)\n",
    "\n",
    "    def calculate_distance(self, other_point):\n",
    "        return math.sqrt((self.x - other_point.x)**2 + (self.y - other_point.y)**2) \n",
    "\n",
    "point1 = Point()\n",
    "point2 = Point()\n",
    "\n",
    "point1.reset()\n",
    "point2.move(5, 0)\n",
    "\n",
    "print(point2.calculate_distance(point1))\n",
    "\n",
    "assert (point2.calculate_distance(point1) == point1.calculate_distance(point2))\n",
    "\n",
    "print\n"
   ]
  }
 ],
 "metadata": {
  "kernelspec": {
   "display_name": "oop-python",
   "language": "python",
   "name": "python3"
  },
  "language_info": {
   "codemirror_mode": {
    "name": "ipython",
    "version": 3
   },
   "file_extension": ".py",
   "mimetype": "text/x-python",
   "name": "python",
   "nbconvert_exporter": "python",
   "pygments_lexer": "ipython3",
   "version": "3.10.14"
  }
 },
 "nbformat": 4,
 "nbformat_minor": 2
}
