{
 "cells": [
  {
   "cell_type": "markdown",
   "metadata": {},
   "source": [
    "## Chapter 2 - Objects in Python\n",
    "\n",
    "You will learing the followings in this chapter.\n",
    "\n",
    "- How to create classes and instantiate objects in Python\n",
    "- How to add attributes and behaviors to Python objects\n",
    "- How to organize classes into packages and modules\n",
    "- How to suggest people don't clobber our data "
   ]
  },
  {
   "cell_type": "code",
   "execution_count": 2,
   "metadata": {},
   "outputs": [
    {
     "name": "stdout",
     "output_type": "stream",
     "text": [
      "<__main__.myFirstClass object at 0x114027dc0> \n",
      " <__main__.myFirstClass object at 0x1140279a0>\n"
     ]
    }
   ],
   "source": [
    "class myFirstClass:\n",
    "    pass\n",
    "\n",
    "a = myFirstClass()\n",
    "b = myFirstClass()\n",
    "\n",
    "print(a,'\\n', b)"
   ]
  },
  {
   "cell_type": "code",
   "execution_count": 5,
   "metadata": {},
   "outputs": [
    {
     "name": "stdout",
     "output_type": "stream",
     "text": [
      "5 3\n",
      "10 20\n"
     ]
    }
   ],
   "source": [
    "class point:\n",
    "    pass\n",
    "\n",
    "p1 = point()\n",
    "p2 = point()\n",
    "\n",
    "p1.x = 5 ; p1.y = 3\n",
    "p2.x = 10 ; p2.y = 20\n",
    "\n",
    "print(p1.x, p1.y)\n",
    "print(p2.x, p2.y)\n"
   ]
  },
  {
   "cell_type": "code",
   "execution_count": 11,
   "metadata": {},
   "outputs": [
    {
     "name": "stdout",
     "output_type": "stream",
     "text": [
      "0 0\n"
     ]
    }
   ],
   "source": [
    "# class definition\n",
    "class Point:\n",
    "    def reset(self): # you can change the name of Self@Point\n",
    "        self.x = 0\n",
    "        self.y = 0\n",
    "\n",
    "p = Point()\n",
    "p.reset() # try to comment this line and then run the cell \n",
    "\n",
    "\n",
    "print(p.x, p.y) # print the class varibles"
   ]
  },
  {
   "cell_type": "code",
   "execution_count": 22,
   "metadata": {},
   "outputs": [
    {
     "name": "stdout",
     "output_type": "stream",
     "text": [
      "5.0 5.0\n",
      "4.47213595499958\n",
      "0.0\n"
     ]
    }
   ],
   "source": [
    "import math \n",
    "# class with methods intialization\n",
    "class Point: \n",
    "    def move(self, x, y):\n",
    "        self.x = x\n",
    "        self.y = y\n",
    "\n",
    "    def reset(self):\n",
    "        self.move(0,0)\n",
    "\n",
    "    def calculate_distance(self, other_point):\n",
    "        return math.sqrt((self.x - other_point.x)**2 + (self.y - other_point.y)**2) \n",
    "\n",
    "point1 = Point()\n",
    "point2 = Point()\n",
    "\n",
    "point1.reset() # point1 self.x=0, self.y=0\n",
    "point2.move(5, 0) # point2 self.x=5 self.y=0\n",
    "\n",
    "print(point2.calculate_distance(point1), point1.calculate_distance(point2)) \n",
    "\n",
    "# you can check the assertion behaviour by changing the condition to !=\n",
    "assert (point2.calculate_distance(point1) == point1.calculate_distance(point2)) \n",
    "\n",
    "point1.move(3,4)\n",
    "print(point1.calculate_distance(point2))\n",
    "print(point1.calculate_distance(point1))\n"
   ]
  },
  {
   "cell_type": "markdown",
   "metadata": {},
   "source": [
    "#\n",
    "### Initializing the Objects"
   ]
  },
  {
   "cell_type": "code",
   "execution_count": 29,
   "metadata": {},
   "outputs": [
    {
     "name": "stdout",
     "output_type": "stream",
     "text": [
      "20 1\n",
      "15.0\n"
     ]
    }
   ],
   "source": [
    "point = Point()\n",
    "point.x = 20\n",
    "point.y = 1\n",
    "print(point.x, point.y)\n",
    "\n",
    "\n",
    "t = myFirstClass()\n",
    "t.x , t.y  = 5, 1\n",
    "\n",
    "print(point.calculate_distance(t))"
   ]
  },
  {
   "cell_type": "code",
   "execution_count": 34,
   "metadata": {},
   "outputs": [
    {
     "name": "stdout",
     "output_type": "stream",
     "text": [
      "3 5\n"
     ]
    }
   ],
   "source": [
    "class Point:\n",
    "    # def __init__(self, x=0, y=0):\n",
    "    def __init__(self, x, y):\n",
    "        self.move(x,y)\n",
    "\n",
    "    def move(self, x, y):\n",
    "        self.x = x\n",
    "        self.y = y\n",
    "\n",
    "    def reset(self):\n",
    "        self.move(0, 0)\n",
    "\n",
    "# Constructing a Point\n",
    "\n",
    "point = Point(3, 5) \n",
    "\n",
    "# we intialize the class intialization function\n",
    "# if we initialize the class without init function argument it will through error\n",
    "# point = Point() \n",
    "\n",
    "print(point.x, point.y)"
   ]
  },
  {
   "cell_type": "code",
   "execution_count": 35,
   "metadata": {},
   "outputs": [],
   "source": [
    "import math \n",
    "class Point:\n",
    "    'Represents a point in two-dimensional geometric coordinates'\n",
    "\n",
    "    def __init__(self, x=0, y=0):\n",
    "        '''Initialize the position of a new point. The x and y coordinates can \n",
    "        be specified. If they are not, the points defaults to the origin.'''\n",
    "        self.move(x,y)\n",
    "\n",
    "    def move(self, x, y):\n",
    "        \"Move the point to a new location in 2D space.\"\n",
    "        self.x = x\n",
    "        self.y = y\n",
    "    \n",
    "    def reset(self):\n",
    "        \"Reset the point back to the geometric origin: 0, 0\"\n",
    "        self.move(0, 0)\n",
    "\n",
    "    def calculate_distance(self, other_point):\n",
    "        \"\"\"Calculate the distanse from this point to a second point passed as parameter.\n",
    "        This funtion uses the Pythagorean Theoram to calculate the distanse between the two points.\n",
    "        The distanse is retured as a float.\"\"\"\n",
    "        return math.sqrt(\n",
    "            (self.x - other_point)**2 +\n",
    "            (self.y - other_point)**2\n",
    "        )"
   ]
  },
  {
   "cell_type": "code",
   "execution_count": 36,
   "metadata": {},
   "outputs": [
    {
     "name": "stdout",
     "output_type": "stream",
     "text": [
      "Help on class Point in module __main__:\n",
      "\n",
      "class Point(builtins.object)\n",
      " |  Point(x=0, y=0)\n",
      " |  \n",
      " |  Represents a point in two-dimensional geometric coordinates\n",
      " |  \n",
      " |  Methods defined here:\n",
      " |  \n",
      " |  __init__(self, x=0, y=0)\n",
      " |      Initialize the position of a new point. The x and y coordinates can \n",
      " |      be specified. If they are not, the points defaults to the origin.\n",
      " |  \n",
      " |  calculate_distance(self, other_point)\n",
      " |      Calculate the distanse from this point to a second point passed as parameter.\n",
      " |      This funtion uses the Pythagorean Theoram to calculate the distanse between the two points.\n",
      " |      The distanse is retured as a float.\n",
      " |  \n",
      " |  move(self, x, y)\n",
      " |      Move the point to a new location in 2D space.\n",
      " |  \n",
      " |  reset(self)\n",
      " |      Reset the point back to the geometric origin: 0, 0\n",
      " |  \n",
      " |  ----------------------------------------------------------------------\n",
      " |  Data descriptors defined here:\n",
      " |  \n",
      " |  __dict__\n",
      " |      dictionary for instance variables (if defined)\n",
      " |  \n",
      " |  __weakref__\n",
      " |      list of weak references to the object (if defined)\n",
      "\n"
     ]
    }
   ],
   "source": [
    "help(Point)"
   ]
  },
  {
   "cell_type": "markdown",
   "metadata": {},
   "source": [
    "#\n",
    "### Modules and packages"
   ]
  },
  {
   "cell_type": "code",
   "execution_count": 49,
   "metadata": {},
   "outputs": [
    {
     "name": "stdout",
     "output_type": "stream",
     "text": [
      "Hello World, How Are You Today?\n",
      "hello world, how are you today?\n"
     ]
    }
   ],
   "source": [
    "hello_string = \"hello world, how are you today?\"\n",
    "print(str(hello_string).title(),  hello_string, sep='\\n', end='\\n')"
   ]
  },
  {
   "cell_type": "code",
   "execution_count": null,
   "metadata": {},
   "outputs": [],
   "source": []
  }
 ],
 "metadata": {
  "kernelspec": {
   "display_name": "oop-python",
   "language": "python",
   "name": "python3"
  },
  "language_info": {
   "codemirror_mode": {
    "name": "ipython",
    "version": 3
   },
   "file_extension": ".py",
   "mimetype": "text/x-python",
   "name": "python",
   "nbconvert_exporter": "python",
   "pygments_lexer": "ipython3",
   "version": "3.10.14"
  }
 },
 "nbformat": 4,
 "nbformat_minor": 2
}
