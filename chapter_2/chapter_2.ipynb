{
 "cells": [
  {
   "cell_type": "markdown",
   "metadata": {},
   "source": [
    "## Chapter 2 - Objects in Python\n",
    "\n",
    "You will learing the followings in this chapter.\n",
    "\n",
    "- How to create classes and instantiate objects in Python\n",
    "- How to add attributes and behaviors to Python objects\n",
    "- How to organize classes into packages and modules\n",
    "- How to suggest people don't clobber our data "
   ]
  },
  {
   "cell_type": "code",
   "execution_count": 2,
   "metadata": {},
   "outputs": [
    {
     "name": "stdout",
     "output_type": "stream",
     "text": [
      "<__main__.myFirstClass object at 0x114027dc0> \n",
      " <__main__.myFirstClass object at 0x1140279a0>\n"
     ]
    }
   ],
   "source": [
    "class myFirstClass:\n",
    "    pass\n",
    "\n",
    "a = myFirstClass()\n",
    "b = myFirstClass()\n",
    "\n",
    "print(a,'\\n', b)"
   ]
  },
  {
   "cell_type": "code",
   "execution_count": 5,
   "metadata": {},
   "outputs": [
    {
     "name": "stdout",
     "output_type": "stream",
     "text": [
      "5 3\n",
      "10 20\n"
     ]
    }
   ],
   "source": [
    "class point:\n",
    "    pass\n",
    "\n",
    "p1 = point()\n",
    "p2 = point()\n",
    "\n",
    "p1.x = 5 ; p1.y = 3\n",
    "p2.x = 10 ; p2.y = 20\n",
    "\n",
    "print(p1.x, p1.y)\n",
    "print(p2.x, p2.y)\n"
   ]
  },
  {
   "cell_type": "code",
   "execution_count": 11,
   "metadata": {},
   "outputs": [
    {
     "name": "stdout",
     "output_type": "stream",
     "text": [
      "0 0\n"
     ]
    }
   ],
   "source": [
    "# class definition\n",
    "class Point:\n",
    "    def reset(self): # you can change the name of Self@Point\n",
    "        self.x = 0\n",
    "        self.y = 0\n",
    "\n",
    "p = Point()\n",
    "p.reset() # try to comment this line and then run the cell \n",
    "\n",
    "\n",
    "print(p.x, p.y) # print the class varibles"
   ]
  },
  {
   "cell_type": "code",
   "execution_count": 22,
   "metadata": {},
   "outputs": [
    {
     "name": "stdout",
     "output_type": "stream",
     "text": [
      "5.0 5.0\n",
      "4.47213595499958\n",
      "0.0\n"
     ]
    }
   ],
   "source": [
    "import math \n",
    "# class with methods intialization\n",
    "class Point: \n",
    "    def move(self, x, y):\n",
    "        self.x = x\n",
    "        self.y = y\n",
    "\n",
    "    def reset(self):\n",
    "        self.move(0,0)\n",
    "\n",
    "    def calculate_distance(self, other_point):\n",
    "        return math.sqrt((self.x - other_point.x)**2 + (self.y - other_point.y)**2) \n",
    "\n",
    "point1 = Point()\n",
    "point2 = Point()\n",
    "\n",
    "point1.reset() # point1 self.x=0, self.y=0\n",
    "point2.move(5, 0) # point2 self.x=5 self.y=0\n",
    "\n",
    "print(point2.calculate_distance(point1), point1.calculate_distance(point2)) \n",
    "\n",
    "# you can check the assertion behaviour by changing the condition to !=\n",
    "assert (point2.calculate_distance(point1) == point1.calculate_distance(point2)) \n",
    "\n",
    "point1.move(3,4)\n",
    "print(point1.calculate_distance(point2))\n",
    "print(point1.calculate_distance(point1))\n"
   ]
  },
  {
   "cell_type": "markdown",
   "metadata": {},
   "source": [
    "#\n",
    "### Initializing the Objects"
   ]
  },
  {
   "cell_type": "code",
   "execution_count": 29,
   "metadata": {},
   "outputs": [
    {
     "name": "stdout",
     "output_type": "stream",
     "text": [
      "20 1\n",
      "15.0\n"
     ]
    }
   ],
   "source": [
    "point = Point()\n",
    "point.x = 20\n",
    "point.y = 1\n",
    "print(point.x, point.y)\n",
    "\n",
    "\n",
    "t = myFirstClass()\n",
    "t.x , t.y  = 5, 1\n",
    "\n",
    "print(point.calculate_distance(t))"
   ]
  },
  {
   "cell_type": "code",
   "execution_count": 34,
   "metadata": {},
   "outputs": [
    {
     "name": "stdout",
     "output_type": "stream",
     "text": [
      "3 5\n"
     ]
    }
   ],
   "source": [
    "class Point:\n",
    "    # def __init__(self, x=0, y=0):\n",
    "    def __init__(self, x, y):\n",
    "        self.move(x,y)\n",
    "\n",
    "    def move(self, x, y):\n",
    "        self.x = x\n",
    "        self.y = y\n",
    "\n",
    "    def reset(self):\n",
    "        self.move(0, 0)\n",
    "\n",
    "# Constructing a Point\n",
    "\n",
    "point = Point(3, 5) \n",
    "\n",
    "# we intialize the class intialization function\n",
    "# if we initialize the class without init function argument it will through error\n",
    "# point = Point() \n",
    "\n",
    "print(point.x, point.y)"
   ]
  },
  {
   "cell_type": "code",
   "execution_count": 35,
   "metadata": {},
   "outputs": [],
   "source": [
    "import math \n",
    "class Point:\n",
    "    'Represents a point in two-dimensional geometric coordinates'\n",
    "\n",
    "    def __init__(self, x=0, y=0):\n",
    "        '''Initialize the position of a new point. The x and y coordinates can \n",
    "        be specified. If they are not, the points defaults to the origin.'''\n",
    "        self.move(x,y)\n",
    "\n",
    "    def move(self, x, y):\n",
    "        \"Move the point to a new location in 2D space.\"\n",
    "        self.x = x\n",
    "        self.y = y\n",
    "    \n",
    "    def reset(self):\n",
    "        \"Reset the point back to the geometric origin: 0, 0\"\n",
    "        self.move(0, 0)\n",
    "\n",
    "    def calculate_distance(self, other_point):\n",
    "        \"\"\"Calculate the distanse from this point to a second point passed as parameter.\n",
    "        This funtion uses the Pythagorean Theoram to calculate the distanse between the two points.\n",
    "        The distanse is retured as a float.\"\"\"\n",
    "        return math.sqrt(\n",
    "            (self.x - other_point)**2 +\n",
    "            (self.y - other_point)**2\n",
    "        )"
   ]
  },
  {
   "cell_type": "code",
   "execution_count": 36,
   "metadata": {},
   "outputs": [
    {
     "name": "stdout",
     "output_type": "stream",
     "text": [
      "Help on class Point in module __main__:\n",
      "\n",
      "class Point(builtins.object)\n",
      " |  Point(x=0, y=0)\n",
      " |  \n",
      " |  Represents a point in two-dimensional geometric coordinates\n",
      " |  \n",
      " |  Methods defined here:\n",
      " |  \n",
      " |  __init__(self, x=0, y=0)\n",
      " |      Initialize the position of a new point. The x and y coordinates can \n",
      " |      be specified. If they are not, the points defaults to the origin.\n",
      " |  \n",
      " |  calculate_distance(self, other_point)\n",
      " |      Calculate the distanse from this point to a second point passed as parameter.\n",
      " |      This funtion uses the Pythagorean Theoram to calculate the distanse between the two points.\n",
      " |      The distanse is retured as a float.\n",
      " |  \n",
      " |  move(self, x, y)\n",
      " |      Move the point to a new location in 2D space.\n",
      " |  \n",
      " |  reset(self)\n",
      " |      Reset the point back to the geometric origin: 0, 0\n",
      " |  \n",
      " |  ----------------------------------------------------------------------\n",
      " |  Data descriptors defined here:\n",
      " |  \n",
      " |  __dict__\n",
      " |      dictionary for instance variables (if defined)\n",
      " |  \n",
      " |  __weakref__\n",
      " |      list of weak references to the object (if defined)\n",
      "\n"
     ]
    }
   ],
   "source": [
    "help(Point)"
   ]
  },
  {
   "cell_type": "markdown",
   "metadata": {},
   "source": [
    "#\n",
    "### Modules and packages"
   ]
  },
  {
   "cell_type": "code",
   "execution_count": 49,
   "metadata": {},
   "outputs": [
    {
     "name": "stdout",
     "output_type": "stream",
     "text": [
      "Hello World, How Are You Today?\n",
      "hello world, how are you today?\n"
     ]
    }
   ],
   "source": [
    "hello_string = \"hello world, how are you today?\"\n",
    "print(str(hello_string).title(),  hello_string, sep='\\n', end='\\n')"
   ]
  },
  {
   "cell_type": "markdown",
   "metadata": {},
   "source": [
    "### Third-party libraries"
   ]
  },
  {
   "cell_type": "code",
   "execution_count": 1,
   "metadata": {},
   "outputs": [
    {
     "name": "stdout",
     "output_type": "stream",
     "text": [
      "Collecting requests\n",
      "  Downloading requests-2.32.3-py3-none-any.whl.metadata (4.6 kB)\n",
      "Collecting charset-normalizer<4,>=2 (from requests)\n",
      "  Downloading charset_normalizer-3.3.2-cp310-cp310-manylinux_2_17_x86_64.manylinux2014_x86_64.whl.metadata (33 kB)\n",
      "Collecting idna<4,>=2.5 (from requests)\n",
      "  Downloading idna-3.7-py3-none-any.whl.metadata (9.9 kB)\n",
      "Collecting urllib3<3,>=1.21.1 (from requests)\n",
      "  Downloading urllib3-2.2.1-py3-none-any.whl.metadata (6.4 kB)\n",
      "Collecting certifi>=2017.4.17 (from requests)\n",
      "  Downloading certifi-2024.6.2-py3-none-any.whl.metadata (2.2 kB)\n",
      "Downloading requests-2.32.3-py3-none-any.whl (64 kB)\n",
      "\u001b[2K   \u001b[90m━━━━━━━━━━━━━━━━━━━━━━━━━━━━━━━━━━━━━━━━\u001b[0m \u001b[32m64.9/64.9 kB\u001b[0m \u001b[31m3.8 MB/s\u001b[0m eta \u001b[36m0:00:00\u001b[0m\n",
      "\u001b[?25hDownloading certifi-2024.6.2-py3-none-any.whl (164 kB)\n",
      "\u001b[2K   \u001b[90m━━━━━━━━━━━━━━━━━━━━━━━━━━━━━━━━━━━━━━━━\u001b[0m \u001b[32m164.4/164.4 kB\u001b[0m \u001b[31m9.4 MB/s\u001b[0m eta \u001b[36m0:00:00\u001b[0m\n",
      "\u001b[?25hDownloading charset_normalizer-3.3.2-cp310-cp310-manylinux_2_17_x86_64.manylinux2014_x86_64.whl (142 kB)\n",
      "\u001b[2K   \u001b[90m━━━━━━━━━━━━━━━━━━━━━━━━━━━━━━━━━━━━━━━━\u001b[0m \u001b[32m142.1/142.1 kB\u001b[0m \u001b[31m10.1 MB/s\u001b[0m eta \u001b[36m0:00:00\u001b[0m\n",
      "\u001b[?25hDownloading idna-3.7-py3-none-any.whl (66 kB)\n",
      "\u001b[2K   \u001b[90m━━━━━━━━━━━━━━━━━━━━━━━━━━━━━━━━━━━━━━━━\u001b[0m \u001b[32m66.8/66.8 kB\u001b[0m \u001b[31m4.3 MB/s\u001b[0m eta \u001b[36m0:00:00\u001b[0m\n",
      "\u001b[?25hDownloading urllib3-2.2.1-py3-none-any.whl (121 kB)\n",
      "\u001b[2K   \u001b[90m━━━━━━━━━━━━━━━━━━━━━━━━━━━━━━━━━━━━━━━━\u001b[0m \u001b[32m121.1/121.1 kB\u001b[0m \u001b[31m7.7 MB/s\u001b[0m eta \u001b[36m0:00:00\u001b[0m\n",
      "\u001b[?25hInstalling collected packages: urllib3, idna, charset-normalizer, certifi, requests\n",
      "Successfully installed certifi-2024.6.2 charset-normalizer-3.3.2 idna-3.7 requests-2.32.3 urllib3-2.2.1\n"
     ]
    }
   ],
   "source": [
    "! pip install requests"
   ]
  },
  {
   "cell_type": "markdown",
   "metadata": {},
   "source": [
    "### Case Study\n",
    "Refer to the folder inside the chapter_2"
   ]
  },
  {
   "cell_type": "code",
   "execution_count": 51,
   "metadata": {},
   "outputs": [],
   "source": [
    "from case_study.notebook import Note"
   ]
  },
  {
   "cell_type": "code",
   "execution_count": 52,
   "metadata": {},
   "outputs": [
    {
     "name": "stdout",
     "output_type": "stream",
     "text": [
      "1 2\n"
     ]
    }
   ],
   "source": [
    "n1 = Note(\"Hello first\")\n",
    "n2 = Note(\"Hello again\")\n",
    "print(n1.id, n2.id)"
   ]
  },
  {
   "cell_type": "code",
   "execution_count": 53,
   "metadata": {},
   "outputs": [
    {
     "name": "stdout",
     "output_type": "stream",
     "text": [
      "True False\n"
     ]
    }
   ],
   "source": [
    "print(n1.match('Hello'), n2.match('second'))"
   ]
  },
  {
   "cell_type": "code",
   "execution_count": 7,
   "metadata": {},
   "outputs": [],
   "source": [
    "from case_study.notebook import Note, Notebook"
   ]
  },
  {
   "cell_type": "code",
   "execution_count": 8,
   "metadata": {},
   "outputs": [
    {
     "data": {
      "text/plain": [
       "[<case_study.notebook.Note at 0x70c26035e080>,\n",
       " <case_study.notebook.Note at 0x70c26035d180>]"
      ]
     },
     "execution_count": 8,
     "metadata": {},
     "output_type": "execute_result"
    }
   ],
   "source": [
    "n = Notebook()\n",
    "n.new_note(\"Hello World\")\n",
    "n.new_note(\"Hello again\")\n",
    "n.notes"
   ]
  },
  {
   "cell_type": "code",
   "execution_count": 9,
   "metadata": {},
   "outputs": [
    {
     "name": "stdout",
     "output_type": "stream",
     "text": [
      "3 4 Hello World\n"
     ]
    }
   ],
   "source": [
    "# n is the Notebook class object and n.notes is the list of from Notebook class,\n",
    "# this list holds the list of objects from the Note class.\n",
    "\n",
    "print(n.notes[0].id, n.notes[1].id, n.notes[0].memo)"
   ]
  },
  {
   "cell_type": "code",
   "execution_count": 10,
   "metadata": {},
   "outputs": [
    {
     "name": "stdout",
     "output_type": "stream",
     "text": [
      "[<case_study.notebook.Note object at 0x70c26035e080>] []\n",
      "Hello World\n"
     ]
    }
   ],
   "source": [
    "print(n.search('World'), n.search('world'))\n",
    "m = n.search('World')\n",
    "print(m[0].memo)"
   ]
  },
  {
   "cell_type": "markdown",
   "metadata": {},
   "source": [
    "run the menu.py in terminal using `python menu.py` and follow the program instructions."
   ]
  },
  {
   "cell_type": "markdown",
   "metadata": {},
   "source": []
  }
 ],
 "metadata": {
  "kernelspec": {
   "display_name": "oop-python",
   "language": "python",
   "name": "python3"
  },
  "language_info": {
   "codemirror_mode": {
    "name": "ipython",
    "version": 3
   },
   "file_extension": ".py",
   "mimetype": "text/x-python",
   "name": "python",
   "nbconvert_exporter": "python",
   "pygments_lexer": "ipython3",
   "version": "3.10.14"
  }
 },
 "nbformat": 4,
 "nbformat_minor": 2
}
