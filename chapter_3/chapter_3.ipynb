{
 "cells": [
  {
   "cell_type": "markdown",
   "metadata": {},
   "source": [
    "## chapter # 3 When Objects Are Alike"
   ]
  },
  {
   "cell_type": "markdown",
   "metadata": {},
   "source": [
    "### Basic inheritance"
   ]
  },
  {
   "cell_type": "code",
   "execution_count": 1,
   "metadata": {},
   "outputs": [],
   "source": [
    "class Contact:\n",
    "    '''The contact class is responsible for maintaining a list of all contacts\n",
    "      in a class variable, and for initializing the name and address for an individual contact'''\n",
    "    \n",
    "    # list of all the contacts\n",
    "    all_contacts = []\n",
    "    \n",
    "    def __init__(self, name, email):\n",
    "        self.name = name \n",
    "        self.email = email \n",
    "        Contact.all_contacts.append(self)\n",
    "\n",
    "class Supplier(Contact):\n",
    "    def order(self, order):\n",
    "        print(\"If this were a real system we would send\"\"'{}' order to '{}'\".format(order, self.name))"
   ]
  },
  {
   "cell_type": "code",
   "execution_count": 2,
   "metadata": {},
   "outputs": [
    {
     "name": "stdout",
     "output_type": "stream",
     "text": [
      "Some Body sb@gmail.com Sup Plier sup@gmail.com\n"
     ]
    }
   ],
   "source": [
    "c = Contact(\"Some Body\", \"sb@gmail.com\")\n",
    "d = Contact(\"testing\", \"test@gmail.com\")\n",
    "s = Supplier(\"Sup Plier\", \"sup@gmail.com\")\n",
    "\n",
    "print(c.name, c.email, s.name, s.email)"
   ]
  },
  {
   "cell_type": "code",
   "execution_count": 3,
   "metadata": {},
   "outputs": [
    {
     "name": "stdout",
     "output_type": "stream",
     "text": [
      "[<__main__.Contact object at 0x7bc6683bb580>, <__main__.Contact object at 0x7bc6683ba080>, <__main__.Supplier object at 0x7bc6683bac50>] testing\n"
     ]
    },
    {
     "data": {
      "text/plain": [
       "[<__main__.Contact at 0x7bc6683bb580>,\n",
       " <__main__.Contact at 0x7bc6683ba080>,\n",
       " <__main__.Supplier at 0x7bc6683bac50>]"
      ]
     },
     "execution_count": 3,
     "metadata": {},
     "output_type": "execute_result"
    }
   ],
   "source": [
    "print(c.all_contacts, c.all_contacts[1].name)\n",
    "c.all_contacts\n"
   ]
  },
  {
   "cell_type": "code",
   "execution_count": 4,
   "metadata": {},
   "outputs": [
    {
     "ename": "AttributeError",
     "evalue": "'Contact' object has no attribute 'order'",
     "output_type": "error",
     "traceback": [
      "\u001b[0;31m---------------------------------------------------------------------------\u001b[0m",
      "\u001b[0;31mAttributeError\u001b[0m                            Traceback (most recent call last)",
      "Cell \u001b[0;32mIn[4], line 1\u001b[0m\n\u001b[0;32m----> 1\u001b[0m \u001b[43mc\u001b[49m\u001b[38;5;241;43m.\u001b[39;49m\u001b[43morder\u001b[49m(\u001b[38;5;124m\"\u001b[39m\u001b[38;5;124mI need pliers\u001b[39m\u001b[38;5;124m\"\u001b[39m)\n",
      "\u001b[0;31mAttributeError\u001b[0m: 'Contact' object has no attribute 'order'"
     ]
    }
   ],
   "source": [
    "c.order(\"I need pliers\")"
   ]
  },
  {
   "cell_type": "code",
   "execution_count": 5,
   "metadata": {},
   "outputs": [
    {
     "name": "stdout",
     "output_type": "stream",
     "text": [
      "If this were a real system we would send'I need pliers' order to 'Sup Plier'\n"
     ]
    }
   ],
   "source": [
    "s.order(\"I need pliers\")"
   ]
  },
  {
   "cell_type": "markdown",
   "metadata": {},
   "source": [
    "### Extending build-ins"
   ]
  },
  {
   "cell_type": "code",
   "execution_count": 10,
   "metadata": {},
   "outputs": [],
   "source": [
    "# The class ContactList is the extension of the defaul python list data type\n",
    "class ContactList(list):\n",
    "    def search(self, name):\n",
    "        '''Return all contacts that contain the search value in their name.'''\n",
    "        matching_contacts = []\n",
    "        for contact in self:\n",
    "            if name in contact.name:\n",
    "                matching_contacts.append(contact)\n",
    "        return matching_contacts\n",
    "\n",
    "class Contact:\n",
    "    all_contacts = ContactList()\n",
    "    def __init__(self, name, email):\n",
    "        self.name = name \n",
    "        self.email = email \n",
    "        self.all_contacts.append(self)\n",
    "\n",
    "c1 = Contact(\"John A\", \"johna@gmail.com\")\n",
    "c2 = Contact(\"John B\", \"johnb@gmail.com\")\n",
    "c3 = Contact(\"Joan C\", \"johnc@gmail.com\")"
   ]
  },
  {
   "cell_type": "code",
   "execution_count": 11,
   "metadata": {},
   "outputs": [
    {
     "data": {
      "text/plain": [
       "['John A', 'John B']"
      ]
     },
     "execution_count": 11,
     "metadata": {},
     "output_type": "execute_result"
    }
   ],
   "source": [
    "print([C.name for C in Contact.all_contacts.search('John')])\n",
    "print([] == list())\n",
    "print(isinstance([], object))"
   ]
  },
  {
   "cell_type": "code",
   "execution_count": 18,
   "metadata": {},
   "outputs": [],
   "source": [
    "class  LongNameDict(dict):\n",
    "    def longest_key(self):\n",
    "        longest = None\n",
    "        for key in self:\n",
    "            if not longest or len(key) > len(longest):\n",
    "                longest = key\n",
    "        return longest\n",
    "\n",
    "longkeys = LongNameDict()\n",
    "longkeys['longest yet'] = 5\n",
    "longkeys['hello'] = 1\n",
    "longkeys['jello2'] = 'world'"
   ]
  },
  {
   "cell_type": "code",
   "execution_count": 19,
   "metadata": {},
   "outputs": [
    {
     "data": {
      "text/plain": [
       "'longest yet'"
      ]
     },
     "execution_count": 19,
     "metadata": {},
     "output_type": "execute_result"
    }
   ],
   "source": [
    "longkeys.longest_key()"
   ]
  },
  {
   "cell_type": "markdown",
   "metadata": {},
   "source": [
    "### Overriding and super"
   ]
  },
  {
   "cell_type": "code",
   "execution_count": 20,
   "metadata": {},
   "outputs": [],
   "source": [
    "# The class ContactList is the extension of the defaul python list data type\n",
    "class ContactList(list):\n",
    "    def search(self, name):\n",
    "        '''Return all contacts that contain the search value in their name.'''\n",
    "        matching_contacts = []\n",
    "        for contact in self:\n",
    "            if name in contact.name:\n",
    "                matching_contacts.append(contact)\n",
    "        return matching_contacts\n",
    "\n",
    "class Contact:\n",
    "    all_contacts = ContactList()\n",
    "    def __init__(self, name, email):\n",
    "        self.name = name \n",
    "        self.email = email \n",
    "        self.all_contacts.append(self)\n",
    "\n",
    "class Friend(Contact):\n",
    "    def __init__(self, name, email, phone):\n",
    "        super().__init__(name, email)\n",
    "        self.phone = phone"
   ]
  },
  {
   "cell_type": "markdown",
   "metadata": {},
   "source": [
    "### Multiple Inheritance"
   ]
  },
  {
   "cell_type": "code",
   "execution_count": null,
   "metadata": {},
   "outputs": [],
   "source": []
  }
 ],
 "metadata": {
  "kernelspec": {
   "display_name": "oop-py",
   "language": "python",
   "name": "python3"
  },
  "language_info": {
   "codemirror_mode": {
    "name": "ipython",
    "version": 3
   },
   "file_extension": ".py",
   "mimetype": "text/x-python",
   "name": "python",
   "nbconvert_exporter": "python",
   "pygments_lexer": "ipython3",
   "version": "3.10.14"
  }
 },
 "nbformat": 4,
 "nbformat_minor": 2
}
